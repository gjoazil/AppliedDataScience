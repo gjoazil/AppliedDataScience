{
 "cells": [
  {
   "cell_type": "code",
   "execution_count": 1,
   "metadata": {
    "collapsed": false
   },
   "outputs": [
    {
     "data": {
      "text/html": [
       "<div>\n",
       "<table border=\"1\" class=\"dataframe\">\n",
       "  <thead>\n",
       "    <tr style=\"text-align: right;\">\n",
       "      <th></th>\n",
       "      <th>movieid</th>\n",
       "      <th>userid</th>\n",
       "      <th>rating</th>\n",
       "      <th>date</th>\n",
       "    </tr>\n",
       "  </thead>\n",
       "  <tbody>\n",
       "    <tr>\n",
       "      <th>0</th>\n",
       "      <td>1</td>\n",
       "      <td>822109</td>\n",
       "      <td>5</td>\n",
       "      <td>2005-05-13</td>\n",
       "    </tr>\n",
       "    <tr>\n",
       "      <th>1</th>\n",
       "      <td>1</td>\n",
       "      <td>885013</td>\n",
       "      <td>4</td>\n",
       "      <td>2005-10-19</td>\n",
       "    </tr>\n",
       "    <tr>\n",
       "      <th>2</th>\n",
       "      <td>1</td>\n",
       "      <td>30878</td>\n",
       "      <td>4</td>\n",
       "      <td>2005-12-26</td>\n",
       "    </tr>\n",
       "    <tr>\n",
       "      <th>3</th>\n",
       "      <td>1</td>\n",
       "      <td>823519</td>\n",
       "      <td>3</td>\n",
       "      <td>2004-05-03</td>\n",
       "    </tr>\n",
       "    <tr>\n",
       "      <th>4</th>\n",
       "      <td>1</td>\n",
       "      <td>893988</td>\n",
       "      <td>3</td>\n",
       "      <td>2005-11-17</td>\n",
       "    </tr>\n",
       "  </tbody>\n",
       "</table>\n",
       "</div>"
      ],
      "text/plain": [
       "   movieid  userid  rating        date\n",
       "0        1  822109       5  2005-05-13\n",
       "1        1  885013       4  2005-10-19\n",
       "2        1   30878       4  2005-12-26\n",
       "3        1  823519       3  2004-05-03\n",
       "4        1  893988       3  2005-11-17"
      ]
     },
     "execution_count": 1,
     "metadata": {},
     "output_type": "execute_result"
    }
   ],
   "source": [
    "import pandas as pd\n",
    "import numpy as np\n",
    "import re\n",
    "import math\n",
    "\n",
    "# Dataframe with IMDB Movie feature Dataset containing Netflix Movie ID\n",
    "df = pd.read_csv('omdb.txt', sep=\"|\")\n",
    "# Dataframe with Netflix data containing userid rating and movie id\n",
    "df_u= pd.read_csv('netflix-user-movie.txt', sep=\",\")\n",
    "df_u.columns = ['movieid','userid','rating', 'date']\n",
    "df_u.head()\n",
    "#filter null rows."
   ]
  },
  {
   "cell_type": "code",
   "execution_count": 2,
   "metadata": {
    "collapsed": false
   },
   "outputs": [],
   "source": [
    "userRating_dict = {}\n",
    "userMoviesCount_dict = {}\n",
    "userMoviesAvgRating_dict = {}\n",
    "userMoviesLiked = {}\n",
    "\n",
    "#Iterate the dataframe and build aggregate ratings and movie counts for each user\n",
    "for row in df_u.itertuples():\n",
    "    userRating_dict[row.userid] = userRating_dict.get(row.userid,0) + row.rating\n",
    "    userMoviesCount_dict[row.userid] = userMoviesCount_dict.get(row.userid,0) + 1\n",
    " \n",
    "#Compute the average rating\n",
    "for userid in userRating_dict:\n",
    "    userMoviesAvgRating_dict[userid] = userRating_dict[userid]/userMoviesCount_dict[userid]\n",
    "\n"
   ]
  },
  {
   "cell_type": "code",
   "execution_count": null,
   "metadata": {
    "collapsed": false
   },
   "outputs": [],
   "source": [
    "#list to add to the dataframe\n",
    "like_list = []\n",
    "userMoviesTitle = []\n",
    "#Iterate the dataframe and find if the movie is liked by the user or not\n",
    "for row in df_u.itertuples():\n",
    "    like_list.extend('1' if row.rating >= userMoviesAvgRating_dict[row.userid] else '0')\n",
    "    userMoviesTitle.extend(df.loc[df['id'] == row.movieid]['Title'])\n",
    "\n",
    "#Add a new likedmovie to the dataframe\n",
    "df_u = df_u.assign(likedmovie = like_list)\n",
    "df_u = df_u.assign(Title = userMoviesTitle)\n",
    "df_u.head()"
   ]
  },
  {
   "cell_type": "code",
   "execution_count": 4,
   "metadata": {
    "collapsed": false
   },
   "outputs": [],
   "source": [
    "# Get a dataframe of the top rated movies for user 822109\n",
    "df_filtered_822109 = df_u[(df_u.userid == 822109) & (df_u.likedmovie == '1')]"
   ]
  },
  {
   "cell_type": "code",
   "execution_count": 5,
   "metadata": {
    "collapsed": false
   },
   "outputs": [
    {
     "data": {
      "text/html": [
       "<div>\n",
       "<table border=\"1\" class=\"dataframe\">\n",
       "  <thead>\n",
       "    <tr style=\"text-align: right;\">\n",
       "      <th></th>\n",
       "      <th>movieid</th>\n",
       "      <th>userid</th>\n",
       "      <th>rating</th>\n",
       "      <th>date</th>\n",
       "      <th>likedmovie</th>\n",
       "    </tr>\n",
       "  </thead>\n",
       "  <tbody>\n",
       "    <tr>\n",
       "      <th>0</th>\n",
       "      <td>1</td>\n",
       "      <td>822109</td>\n",
       "      <td>5</td>\n",
       "      <td>2005-05-13</td>\n",
       "      <td>1</td>\n",
       "    </tr>\n",
       "    <tr>\n",
       "      <th>3013481</th>\n",
       "      <td>571</td>\n",
       "      <td>822109</td>\n",
       "      <td>5</td>\n",
       "      <td>2005-04-25</td>\n",
       "      <td>1</td>\n",
       "    </tr>\n",
       "    <tr>\n",
       "      <th>3215550</th>\n",
       "      <td>607</td>\n",
       "      <td>822109</td>\n",
       "      <td>5</td>\n",
       "      <td>2005-04-07</td>\n",
       "      <td>1</td>\n",
       "    </tr>\n",
       "    <tr>\n",
       "      <th>4854997</th>\n",
       "      <td>985</td>\n",
       "      <td>822109</td>\n",
       "      <td>5</td>\n",
       "      <td>2005-04-25</td>\n",
       "      <td>1</td>\n",
       "    </tr>\n",
       "    <tr>\n",
       "      <th>5644197</th>\n",
       "      <td>1144</td>\n",
       "      <td>822109</td>\n",
       "      <td>5</td>\n",
       "      <td>2005-05-21</td>\n",
       "      <td>1</td>\n",
       "    </tr>\n",
       "  </tbody>\n",
       "</table>\n",
       "</div>"
      ],
      "text/plain": [
       "         movieid  userid  rating        date likedmovie\n",
       "0              1  822109       5  2005-05-13          1\n",
       "3013481      571  822109       5  2005-04-25          1\n",
       "3215550      607  822109       5  2005-04-07          1\n",
       "4854997      985  822109       5  2005-04-25          1\n",
       "5644197     1144  822109       5  2005-05-21          1"
      ]
     },
     "execution_count": 5,
     "metadata": {},
     "output_type": "execute_result"
    }
   ],
   "source": [
    "#Data frame containing the movies which user 822109 liked\n",
    "df_filtered_822109.head()"
   ]
  },
  {
   "cell_type": "code",
   "execution_count": 6,
   "metadata": {
    "collapsed": false
   },
   "outputs": [],
   "source": [
    "# Iterate df_filtered_822109 and find movies similar to the movie list\n",
    "\n",
    "#Cleansing the IMDB Data which contains netflix movie id\n",
    "#filter null rows.\n",
    "df = df[df.Title != 'null']\n",
    "#pick first year for Series.\n",
    "df['Year'] = df['Year'].str.replace('–[0-9]*$','')\n",
    "#Correct Rated column\n",
    "df.Rated = df.Rated.str.replace('UNRATED','NOT RATED')\n",
    "df.Rated = df.Rated.str.replace('NR','NOT RATED')\n",
    "df.Rated = df.Rated.str.replace('Not Rated','NOT RATED')\n",
    "df.Rated = df.Rated.str.replace('Unrated','NOT RATED')\n",
    "\n",
    "#remove commas from imdbvotes\n",
    "df.imdbVotes = df.imdbVotes.str.replace(',','')\n",
    "\n",
    "# classify runtime by hours\n",
    "df.Runtime = df.Runtime.str.replace(' min','')\n",
    "df.Runtime = df.Runtime.str.replace(',','')\n",
    "df.Runtime = df.Runtime.str.replace('1 h 30','90')\n",
    "df.Runtime = df.Runtime.str.replace('3 h 48','223')\n",
    "df.Runtime = df.Runtime.str.replace('1 h 20','80')\n",
    "#df.Runtime = df.Runtime.str.replace(NaN,'0')\n",
    "\n",
    "df.Runtime = pd.to_numeric(df.Runtime, errors='coerce')\n",
    "minRuntime = min(df.Runtime)\n",
    "maxRuntime = max(df.Runtime)\n",
    "\n",
    "df['Runtime'] = df['Runtime'].apply(lambda x: 4*((x - minRuntime)/(maxRuntime - minRuntime)) + 1)\n",
    "df['Runtime'] = df['Runtime'].apply(lambda x: 1 if x < 1 else x)\n",
    "df['Runtime'] = df['Runtime'].apply(lambda x: 2 if x > 1 and x < 2 else x)\n",
    "df['Runtime'] = df['Runtime'].apply(lambda x: 3 if x > 2 and x < 3 else x)\n",
    "df['Runtime'] = df['Runtime'].apply(lambda x: 4 if x > 3 and x < 4 else x)\n",
    "df['Runtime'] = df['Runtime'].apply(lambda x: 5 if x > 4 and x < 5 else x)\n",
    "\n",
    "df.imdbVotes = pd.to_numeric(df.imdbVotes, errors='coerce')\n",
    "minImdbVotes = min(df.imdbVotes)\n",
    "maxImdbVotes = max(df.imdbVotes)\n",
    "df['imdbVotes'] = df['imdbVotes'].apply(lambda x: 4*((x - minImdbVotes)/(maxImdbVotes - minImdbVotes)) + 1)\n",
    "df['imdbVotes'] = df['imdbVotes'].apply(lambda x: 1 if x < 1 else x)\n",
    "df['imdbVotes'] = df['imdbVotes'].apply(lambda x: 2 if x > 1 and x < 2 else x)\n",
    "df['imdbVotes'] = df['imdbVotes'].apply(lambda x: 3 if x > 2 and x < 3 else x)\n",
    "df['imdbVotes'] = df['imdbVotes'].apply(lambda x: 4 if x > 3 and x < 4 else x)\n",
    "df['imdbVotes'] = df['imdbVotes'].apply(lambda x: 5 if x > 4 and x < 5 else x)\n",
    "\n",
    "df.imdbRating = pd.to_numeric(df.imdbRating, errors='coerce')\n",
    "minImdbRating = min(df.imdbRating)\n",
    "maxImdbRating = max(df.imdbRating)\n",
    "df['imdbRating'] = df['imdbRating'].apply(lambda x: 4*((x - minImdbRating)/(maxImdbRating - minImdbRating)) + 1)\n",
    "df['imdbRating'] = df['imdbRating'].apply(lambda x: 1 if x < 1 else x)\n",
    "df['imdbRating'] = df['imdbRating'].apply(lambda x: 2 if x > 1 and x < 2 else x)\n",
    "df['imdbRating'] = df['imdbRating'].apply(lambda x: 3 if x > 2 and x < 3 else x)\n",
    "df['imdbRating'] = df['imdbRating'].apply(lambda x: 4 if x > 3 and x < 4 else x)\n",
    "df['imdbRating'] = df['imdbRating'].apply(lambda x: 5 if x > 4 and x < 5 else x)\n",
    "\n",
    "df.Year = pd.to_numeric(df.Year, errors='coerce')\n",
    "minYear = min(df.Year)\n",
    "maxYear = max(df.Year)\n",
    "df['Year'] = df['Year'].apply(lambda x: 4*((x - minYear)/(maxYear - minYear)) + 1)\n",
    "df['Year'] = df['Year'].apply(lambda x: 1 if x < 1 else x)\n",
    "df['Year'] = df['Year'].apply(lambda x: 2 if x > 1 and x < 2 else x)\n",
    "df['Year'] = df['Year'].apply(lambda x: 3 if x > 2 and x < 3 else x)\n",
    "df['Year'] = df['Year'].apply(lambda x: 4 if x > 3 and x < 4 else x)\n",
    "df['Year'] = df['Year'].apply(lambda x: 5 if x > 4 and x < 5 else x)\n",
    "\n",
    "df = df[df['Genre'].notnull()]\n",
    "df = df[df['Writer'].notnull()]\n",
    "df = df[df['Actors'].notnull()]\n",
    "df = df[df['Director'].notnull()]\n",
    "df = df[df['Country'].notnull()]\n",
    "df = df[df['Language'].notnull()]\n"
   ]
  },
  {
   "cell_type": "code",
   "execution_count": 7,
   "metadata": {
    "collapsed": false
   },
   "outputs": [
    {
     "data": {
      "text/plain": [
       "9156"
      ]
     },
     "execution_count": 7,
     "metadata": {},
     "output_type": "execute_result"
    }
   ],
   "source": [
    "#Number of IMDB Dataframe records\n",
    "len(df)"
   ]
  },
  {
   "cell_type": "code",
   "execution_count": 28,
   "metadata": {
    "collapsed": false
   },
   "outputs": [
    {
     "data": {
      "text/html": [
       "<pre>Unable to parse line \"16725|16726|The Homework Bureau|1|||Neil Crone, Bill Keenan|Neil Crone, Moira Dunphy, Kevin Frankoff, Donald Tripe|\"The Homework Bureau is a satire of TV cop shows. It profiles a day in the life of a busy crisis center where an elite team of tutors help st...\"</pre>"
      ],
      "text/plain": [
       "Unable to parse line \"16725|16726|The Homework Bureau|1|||Neil Crone, Bill Keenan|Neil Crone, Moira Dunphy, Kevin Frankoff, Donald Tripe|\"The Homework Bureau is a satire of TV cop shows. It profiles a day in the life of a busy crisis center where an elite team of tutors help st...\""
      ]
     },
     "metadata": {},
     "output_type": "display_data"
    },
    {
     "data": {
      "text/html": [
       "<pre>Unable to parse line \"16727|null|null|null|null|null|null|null|null|null|null|null|null|null|null|null|null|null|null|False|null\"</pre>"
      ],
      "text/plain": [
       "Unable to parse line \"16727|null|null|null|null|null|null|null|null|null|null|null|null|null|null|null|null|null|null|False|null\""
      ]
     },
     "metadata": {},
     "output_type": "display_data"
    },
    {
     "data": {
      "text/html": [
       "<pre>Unable to parse line \"16728|null|null|null|null|null|null|null|null|null|null|null|null|null|null|null|null|null|null|False|null\"</pre>"
      ],
      "text/plain": [
       "Unable to parse line \"16728|null|null|null|null|null|null|null|null|null|null|null|null|null|null|null|null|null|null|False|null\""
      ]
     },
     "metadata": {},
     "output_type": "display_data"
    },
    {
     "data": {
      "text/html": [
       "<pre>Unable to parse line \"16729|null|null|null|null|null|null|null|null|null|null|null|null|null|null|null|null|null|null|False|null\"</pre>"
      ],
      "text/plain": [
       "Unable to parse line \"16729|null|null|null|null|null|null|null|null|null|null|null|null|null|null|null|null|null|null|False|null\""
      ]
     },
     "metadata": {},
     "output_type": "display_data"
    },
    {
     "data": {
      "text/html": [
       "<pre>Unable to parse line \"16730|null|null|null|null|null|null|null|null|null|null|null|null|null|null|null|null|null|null|False|null\"</pre>"
      ],
      "text/plain": [
       "Unable to parse line \"16730|null|null|null|null|null|null|null|null|null|null|null|null|null|null|null|null|null|null|False|null\""
      ]
     },
     "metadata": {},
     "output_type": "display_data"
    },
    {
     "data": {
      "text/html": [
       "<pre>Unable to parse line \"16731|null|null|null|null|null|null|null|null|null|null|null|null|null|null|null|null|null|null|False|null\"</pre>"
      ],
      "text/plain": [
       "Unable to parse line \"16731|null|null|null|null|null|null|null|null|null|null|null|null|null|null|null|null|null|null|False|null\""
      ]
     },
     "metadata": {},
     "output_type": "display_data"
    },
    {
     "data": {
      "text/html": [
       "<pre>Unable to parse line \"16732|null|null|null|null|null|null|null|null|null|null|null|null|null|null|null|null|null|null|False|null\"</pre>"
      ],
      "text/plain": [
       "Unable to parse line \"16732|null|null|null|null|null|null|null|null|null|null|null|null|null|null|null|null|null|null|False|null\""
      ]
     },
     "metadata": {},
     "output_type": "display_data"
    },
    {
     "data": {
      "text/html": [
       "<pre>Unable to parse line \"16733|Mona Lisa|1986|R|13 Jun 1986|Neil Jordan (screenplay), David Leland (screenplay)|Bob Hoskins, Cathy Tyson, Michael Caine, Robbie Coltrane|A man recently released from prison manages to get a job driving a call girl from customer to customer.|Nominate...\"</pre>"
      ],
      "text/plain": [
       "Unable to parse line \"16733|Mona Lisa|1986|R|13 Jun 1986|Neil Jordan (screenplay), David Leland (screenplay)|Bob Hoskins, Cathy Tyson, Michael Caine, Robbie Coltrane|A man recently released from prison manages to get a job driving a call girl from customer to customer.|Nominate...\""
      ]
     },
     "metadata": {},
     "output_type": "display_data"
    },
    {
     "data": {
      "text/html": [
       "<pre>Unable to parse line \"16734|Uncovered: The War on Iraq|2004|UNRATED|13 Oct 2004|N/A|David Albright, Robert Baer, Milton Bearden, Rand Beers|In this documentary feature, filmmaker Robert Greenwald chronicles the Bush Administration's case to invade Iraq following the events of S...\"</pre>"
      ],
      "text/plain": [
       "Unable to parse line \"16734|Uncovered: The War on Iraq|2004|UNRATED|13 Oct 2004|N/A|David Albright, Robert Baer, Milton Bearden, Rand Beers|In this documentary feature, filmmaker Robert Greenwald chronicles the Bush Administration's case to invade Iraq following the events of S...\""
      ]
     },
     "metadata": {},
     "output_type": "display_data"
    },
    {
     "data": {
      "text/html": [
       "<pre>Unable to parse line \"16735|Teenage Mutant Ninja Turtles|2003â€“2010|TV-Y7|08 Feb 2003|Kevin Eastman, Peter Laird, Lloyd Goldfine|Michael Sinterniklaas, Wayne Grayson, Gregory Abbey, Sam Riegel|The lean, mean, green fighting machines are back in an all-new action-packed series!...\"</pre>"
      ],
      "text/plain": [
       "Unable to parse line \"16735|Teenage Mutant Ninja Turtles|2003â€“2010|TV-Y7|08 Feb 2003|Kevin Eastman, Peter Laird, Lloyd Goldfine|Michael Sinterniklaas, Wayne Grayson, Gregory Abbey, Sam Riegel|The lean, mean, green fighting machines are back in an all-new action-packed series!...\""
      ]
     },
     "metadata": {},
     "output_type": "display_data"
    },
    {
     "data": {
      "text/html": [
       "<pre>17 lines failed to parse correctly</pre>"
      ],
      "text/plain": [
       "17 lines failed to parse correctly"
      ]
     },
     "metadata": {},
     "output_type": "display_data"
    },
    {
     "data": {
      "text/html": [
       "<pre>Finished parsing file C:\\Users\\spandem\\cmu\\AppliedDataScience\\Projects\\netflix-prize-data\\normalized.csv</pre>"
      ],
      "text/plain": [
       "Finished parsing file C:\\Users\\spandem\\cmu\\AppliedDataScience\\Projects\\netflix-prize-data\\normalized.csv"
      ]
     },
     "metadata": {},
     "output_type": "display_data"
    },
    {
     "data": {
      "text/html": [
       "<pre>Parsing completed. Parsed 100 lines in 0.188 secs.</pre>"
      ],
      "text/plain": [
       "Parsing completed. Parsed 100 lines in 0.188 secs."
      ]
     },
     "metadata": {},
     "output_type": "display_data"
    },
    {
     "name": "stdout",
     "output_type": "stream",
     "text": [
      "------------------------------------------------------\n",
      "Inferred types from first 100 line(s) of file as \n",
      "column_type_hints=[long,long,str,long,str,str,str,str,str,str,str,str,float,float,str,str,float,str,str,str,str,long]\n",
      "If parsing fails due to incorrect types, you can correct\n",
      "the inferred type list above and pass it to read_csv in\n",
      "the column_type_hints argument\n",
      "------------------------------------------------------\n"
     ]
    },
    {
     "data": {
      "text/html": [
       "<pre>Unable to parse line \"16725|16726|The Homework Bureau|1|||Neil Crone, Bill Keenan|Neil Crone, Moira Dunphy, Kevin Frankoff, Donald Tripe|\"The Homework Bureau is a satire of TV cop shows. It profiles a day in the life of a busy crisis center where an elite team of tutors help st...\"</pre>"
      ],
      "text/plain": [
       "Unable to parse line \"16725|16726|The Homework Bureau|1|||Neil Crone, Bill Keenan|Neil Crone, Moira Dunphy, Kevin Frankoff, Donald Tripe|\"The Homework Bureau is a satire of TV cop shows. It profiles a day in the life of a busy crisis center where an elite team of tutors help st...\""
      ]
     },
     "metadata": {},
     "output_type": "display_data"
    },
    {
     "data": {
      "text/html": [
       "<pre>Unable to parse line \"16727|null|null|null|null|null|null|null|null|null|null|null|null|null|null|null|null|null|null|False|null\"</pre>"
      ],
      "text/plain": [
       "Unable to parse line \"16727|null|null|null|null|null|null|null|null|null|null|null|null|null|null|null|null|null|null|False|null\""
      ]
     },
     "metadata": {},
     "output_type": "display_data"
    },
    {
     "data": {
      "text/html": [
       "<pre>Unable to parse line \"16728|null|null|null|null|null|null|null|null|null|null|null|null|null|null|null|null|null|null|False|null\"</pre>"
      ],
      "text/plain": [
       "Unable to parse line \"16728|null|null|null|null|null|null|null|null|null|null|null|null|null|null|null|null|null|null|False|null\""
      ]
     },
     "metadata": {},
     "output_type": "display_data"
    },
    {
     "data": {
      "text/html": [
       "<pre>Unable to parse line \"16729|null|null|null|null|null|null|null|null|null|null|null|null|null|null|null|null|null|null|False|null\"</pre>"
      ],
      "text/plain": [
       "Unable to parse line \"16729|null|null|null|null|null|null|null|null|null|null|null|null|null|null|null|null|null|null|False|null\""
      ]
     },
     "metadata": {},
     "output_type": "display_data"
    },
    {
     "data": {
      "text/html": [
       "<pre>Unable to parse line \"16730|null|null|null|null|null|null|null|null|null|null|null|null|null|null|null|null|null|null|False|null\"</pre>"
      ],
      "text/plain": [
       "Unable to parse line \"16730|null|null|null|null|null|null|null|null|null|null|null|null|null|null|null|null|null|null|False|null\""
      ]
     },
     "metadata": {},
     "output_type": "display_data"
    },
    {
     "data": {
      "text/html": [
       "<pre>Unable to parse line \"16731|null|null|null|null|null|null|null|null|null|null|null|null|null|null|null|null|null|null|False|null\"</pre>"
      ],
      "text/plain": [
       "Unable to parse line \"16731|null|null|null|null|null|null|null|null|null|null|null|null|null|null|null|null|null|null|False|null\""
      ]
     },
     "metadata": {},
     "output_type": "display_data"
    },
    {
     "data": {
      "text/html": [
       "<pre>Unable to parse line \"16732|null|null|null|null|null|null|null|null|null|null|null|null|null|null|null|null|null|null|False|null\"</pre>"
      ],
      "text/plain": [
       "Unable to parse line \"16732|null|null|null|null|null|null|null|null|null|null|null|null|null|null|null|null|null|null|False|null\""
      ]
     },
     "metadata": {},
     "output_type": "display_data"
    },
    {
     "data": {
      "text/html": [
       "<pre>Unable to parse line \"16733|Mona Lisa|1986|R|13 Jun 1986|Neil Jordan (screenplay), David Leland (screenplay)|Bob Hoskins, Cathy Tyson, Michael Caine, Robbie Coltrane|A man recently released from prison manages to get a job driving a call girl from customer to customer.|Nominate...\"</pre>"
      ],
      "text/plain": [
       "Unable to parse line \"16733|Mona Lisa|1986|R|13 Jun 1986|Neil Jordan (screenplay), David Leland (screenplay)|Bob Hoskins, Cathy Tyson, Michael Caine, Robbie Coltrane|A man recently released from prison manages to get a job driving a call girl from customer to customer.|Nominate...\""
      ]
     },
     "metadata": {},
     "output_type": "display_data"
    },
    {
     "data": {
      "text/html": [
       "<pre>Unable to parse line \"16734|Uncovered: The War on Iraq|2004|UNRATED|13 Oct 2004|N/A|David Albright, Robert Baer, Milton Bearden, Rand Beers|In this documentary feature, filmmaker Robert Greenwald chronicles the Bush Administration's case to invade Iraq following the events of S...\"</pre>"
      ],
      "text/plain": [
       "Unable to parse line \"16734|Uncovered: The War on Iraq|2004|UNRATED|13 Oct 2004|N/A|David Albright, Robert Baer, Milton Bearden, Rand Beers|In this documentary feature, filmmaker Robert Greenwald chronicles the Bush Administration's case to invade Iraq following the events of S...\""
      ]
     },
     "metadata": {},
     "output_type": "display_data"
    },
    {
     "data": {
      "text/html": [
       "<pre>Unable to parse line \"16735|Teenage Mutant Ninja Turtles|2003â€“2010|TV-Y7|08 Feb 2003|Kevin Eastman, Peter Laird, Lloyd Goldfine|Michael Sinterniklaas, Wayne Grayson, Gregory Abbey, Sam Riegel|The lean, mean, green fighting machines are back in an all-new action-packed series!...\"</pre>"
      ],
      "text/plain": [
       "Unable to parse line \"16735|Teenage Mutant Ninja Turtles|2003â€“2010|TV-Y7|08 Feb 2003|Kevin Eastman, Peter Laird, Lloyd Goldfine|Michael Sinterniklaas, Wayne Grayson, Gregory Abbey, Sam Riegel|The lean, mean, green fighting machines are back in an all-new action-packed series!...\""
      ]
     },
     "metadata": {},
     "output_type": "display_data"
    },
    {
     "data": {
      "text/html": [
       "<pre>17 lines failed to parse correctly</pre>"
      ],
      "text/plain": [
       "17 lines failed to parse correctly"
      ]
     },
     "metadata": {},
     "output_type": "display_data"
    },
    {
     "data": {
      "text/html": [
       "<pre>Finished parsing file C:\\Users\\spandem\\cmu\\AppliedDataScience\\Projects\\netflix-prize-data\\normalized.csv</pre>"
      ],
      "text/plain": [
       "Finished parsing file C:\\Users\\spandem\\cmu\\AppliedDataScience\\Projects\\netflix-prize-data\\normalized.csv"
      ]
     },
     "metadata": {},
     "output_type": "display_data"
    },
    {
     "data": {
      "text/html": [
       "<pre>Parsing completed. Parsed 9155 lines in 0.161 secs.</pre>"
      ],
      "text/plain": [
       "Parsing completed. Parsed 9155 lines in 0.161 secs."
      ]
     },
     "metadata": {},
     "output_type": "display_data"
    },
    {
     "name": "stdout",
     "output_type": "stream",
     "text": [
      "Defaulting to brute force instead of ball tree because there are multiple distance components.\n"
     ]
    },
    {
     "data": {
      "text/html": [
       "<pre>Starting brute force nearest neighbors model training.</pre>"
      ],
      "text/plain": [
       "Starting brute force nearest neighbors model training."
      ]
     },
     "metadata": {},
     "output_type": "display_data"
    }
   ],
   "source": [
    "import graphlab as gl\n",
    "#Below line is required when running first time\n",
    "#graphlab.get_dependencies()\n",
    "\n",
    "df.to_csv('normalized.csv', sep='|')\n",
    "\n",
    "movieSFrame = gl.SFrame.read_csv(\"normalized.csv\", sep='|')\n",
    "#'Runtime','imdbRating','Year','imdbVotes'\n",
    "knn_model = gl.nearest_neighbors.create(movieSFrame,features=['Genre','Writer','Actors','Director','Country','Language','Rated','Awards'],label='id')"
   ]
  },
  {
   "cell_type": "code",
   "execution_count": 29,
   "metadata": {
    "collapsed": false
   },
   "outputs": [
    {
     "ename": "ToolkitError",
     "evalue": "Input dataset either has no rows or no columns. A non-empty SFrame is required.",
     "output_type": "error",
     "traceback": [
      "\u001b[1;31m---------------------------------------------------------------------------\u001b[0m",
      "\u001b[1;31mToolkitError\u001b[0m                              Traceback (most recent call last)",
      "\u001b[1;32m<ipython-input-29-4eb736337718>\u001b[0m in \u001b[0;36m<module>\u001b[1;34m()\u001b[0m\n\u001b[0;32m      3\u001b[0m \u001b[0mmovieSFrame\u001b[0m\u001b[1;33m[\u001b[0m\u001b[1;34m'id'\u001b[0m\u001b[1;33m]\u001b[0m\u001b[1;33m.\u001b[0m\u001b[0mastype\u001b[0m\u001b[1;33m(\u001b[0m\u001b[0mstr\u001b[0m\u001b[1;33m)\u001b[0m\u001b[1;33m\u001b[0m\u001b[0m\n\u001b[0;32m      4\u001b[0m \u001b[0mmovie_571\u001b[0m \u001b[1;33m=\u001b[0m \u001b[0mmovieSFrame\u001b[0m\u001b[1;33m[\u001b[0m\u001b[0mmovieSFrame\u001b[0m\u001b[1;33m[\u001b[0m\u001b[1;34m'id'\u001b[0m\u001b[1;33m]\u001b[0m \u001b[1;33m==\u001b[0m \u001b[1;34m'571'\u001b[0m\u001b[1;33m]\u001b[0m\u001b[1;33m\u001b[0m\u001b[0m\n\u001b[1;32m----> 5\u001b[1;33m \u001b[0mknn_model\u001b[0m\u001b[1;33m.\u001b[0m\u001b[0mquery\u001b[0m\u001b[1;33m(\u001b[0m\u001b[0mmovie_571\u001b[0m\u001b[1;33m)\u001b[0m\u001b[1;33m\u001b[0m\u001b[0m\n\u001b[0m\u001b[0;32m      6\u001b[0m \u001b[0mmovie_607\u001b[0m \u001b[1;33m=\u001b[0m \u001b[0mmovieSFrame\u001b[0m\u001b[1;33m[\u001b[0m\u001b[0mmovieSFrame\u001b[0m\u001b[1;33m[\u001b[0m\u001b[1;34m'id'\u001b[0m\u001b[1;33m]\u001b[0m \u001b[1;33m==\u001b[0m \u001b[1;34m'607'\u001b[0m\u001b[1;33m]\u001b[0m\u001b[1;33m\u001b[0m\u001b[0m\n\u001b[0;32m      7\u001b[0m \u001b[0mknn_model\u001b[0m\u001b[1;33m.\u001b[0m\u001b[0mquery\u001b[0m\u001b[1;33m(\u001b[0m\u001b[0mmovie_607\u001b[0m\u001b[1;33m)\u001b[0m\u001b[1;33m\u001b[0m\u001b[0m\n",
      "\u001b[1;32mC:\\Anaconda2\\envs\\gl-env\\lib\\site-packages\\graphlab\\toolkits\\nearest_neighbors\\_nearest_neighbors.pyc\u001b[0m in \u001b[0;36mquery\u001b[1;34m(self, dataset, label, k, radius, verbose)\u001b[0m\n\u001b[0;32m    970\u001b[0m         \u001b[1;31m## Validate the 'dataset' input\u001b[0m\u001b[1;33m\u001b[0m\u001b[1;33m\u001b[0m\u001b[0m\n\u001b[0;32m    971\u001b[0m         \u001b[0m_tkutl\u001b[0m\u001b[1;33m.\u001b[0m\u001b[0m_raise_error_if_not_sframe\u001b[0m\u001b[1;33m(\u001b[0m\u001b[0mdataset\u001b[0m\u001b[1;33m,\u001b[0m \u001b[1;34m\"dataset\"\u001b[0m\u001b[1;33m)\u001b[0m\u001b[1;33m\u001b[0m\u001b[0m\n\u001b[1;32m--> 972\u001b[1;33m         \u001b[0m_tkutl\u001b[0m\u001b[1;33m.\u001b[0m\u001b[0m_raise_error_if_sframe_empty\u001b[0m\u001b[1;33m(\u001b[0m\u001b[0mdataset\u001b[0m\u001b[1;33m,\u001b[0m \u001b[1;34m\"dataset\"\u001b[0m\u001b[1;33m)\u001b[0m\u001b[1;33m\u001b[0m\u001b[0m\n\u001b[0m\u001b[0;32m    973\u001b[0m \u001b[1;33m\u001b[0m\u001b[0m\n\u001b[0;32m    974\u001b[0m         \u001b[1;31m## Get model features\u001b[0m\u001b[1;33m\u001b[0m\u001b[1;33m\u001b[0m\u001b[0m\n",
      "\u001b[1;32mC:\\Anaconda2\\envs\\gl-env\\lib\\site-packages\\graphlab\\toolkits\\_internal_utils.pyc\u001b[0m in \u001b[0;36m_raise_error_if_sframe_empty\u001b[1;34m(dataset, variable_name)\u001b[0m\n\u001b[0;32m    405\u001b[0m \u001b[1;33m\u001b[0m\u001b[0m\n\u001b[0;32m    406\u001b[0m     \u001b[1;32mif\u001b[0m \u001b[0mdataset\u001b[0m\u001b[1;33m.\u001b[0m\u001b[0mnum_rows\u001b[0m\u001b[1;33m(\u001b[0m\u001b[1;33m)\u001b[0m \u001b[1;33m==\u001b[0m \u001b[1;36m0\u001b[0m \u001b[1;32mor\u001b[0m \u001b[0mdataset\u001b[0m\u001b[1;33m.\u001b[0m\u001b[0mnum_cols\u001b[0m\u001b[1;33m(\u001b[0m\u001b[1;33m)\u001b[0m \u001b[1;33m==\u001b[0m \u001b[1;36m0\u001b[0m\u001b[1;33m:\u001b[0m\u001b[1;33m\u001b[0m\u001b[0m\n\u001b[1;32m--> 407\u001b[1;33m         \u001b[1;32mraise\u001b[0m \u001b[0mToolkitError\u001b[0m\u001b[1;33m(\u001b[0m\u001b[0merr_msg\u001b[0m \u001b[1;33m%\u001b[0m \u001b[0mvariable_name\u001b[0m\u001b[1;33m)\u001b[0m\u001b[1;33m\u001b[0m\u001b[0m\n\u001b[0m\u001b[0;32m    408\u001b[0m \u001b[1;33m\u001b[0m\u001b[0m\n\u001b[0;32m    409\u001b[0m \u001b[1;32mdef\u001b[0m \u001b[0m_raise_error_if_not_iterable\u001b[0m\u001b[1;33m(\u001b[0m\u001b[0mdataset\u001b[0m\u001b[1;33m,\u001b[0m \u001b[0mvariable_name\u001b[0m\u001b[1;33m=\u001b[0m\u001b[1;34m\"SFrame\"\u001b[0m\u001b[1;33m)\u001b[0m\u001b[1;33m:\u001b[0m\u001b[1;33m\u001b[0m\u001b[0m\n",
      "\u001b[1;31mToolkitError\u001b[0m: Input dataset either has no rows or no columns. A non-empty SFrame is required."
     ]
    }
   ],
   "source": [
    "#df_filtered_822109[df_filtered_822109['userid'] == 822109]\n",
    "\n",
    "movieSFrame['id'].astype(str)\n",
    "movie_571 = movieSFrame[movieSFrame['id'] == '571']\n",
    "knn_model.query(movie_571)\n",
    "movie_607 = movieSFrame[movieSFrame['id'] == '607']\n",
    "knn_model.query(movie_607)\n",
    "movie_985 = movieSFrame[movieSFrame['id'] == '985']\n",
    "knn_model.query(movie_985)\n",
    "\n"
   ]
  },
  {
   "cell_type": "code",
   "execution_count": 13,
   "metadata": {
    "collapsed": false
   },
   "outputs": [
    {
     "data": {
      "text/html": [
       "<div style=\"max-height:1000px;max-width:1500px;overflow:auto;\"><table frame=\"box\" rules=\"cols\">\n",
       "    <tr>\n",
       "        <th style=\"padding-left: 1em; padding-right: 1em; text-align: center\">X1</th>\n",
       "        <th style=\"padding-left: 1em; padding-right: 1em; text-align: center\">id</th>\n",
       "        <th style=\"padding-left: 1em; padding-right: 1em; text-align: center\">Title</th>\n",
       "        <th style=\"padding-left: 1em; padding-right: 1em; text-align: center\">Year</th>\n",
       "        <th style=\"padding-left: 1em; padding-right: 1em; text-align: center\">Rated</th>\n",
       "        <th style=\"padding-left: 1em; padding-right: 1em; text-align: center\">Released</th>\n",
       "        <th style=\"padding-left: 1em; padding-right: 1em; text-align: center\">Writer</th>\n",
       "        <th style=\"padding-left: 1em; padding-right: 1em; text-align: center\">Actors</th>\n",
       "    </tr>\n",
       "    <tr>\n",
       "        <td style=\"padding-left: 1em; padding-right: 1em; text-align: center; vertical-align: top\">23</td>\n",
       "        <td style=\"padding-left: 1em; padding-right: 1em; text-align: center; vertical-align: top\">24</td>\n",
       "        <td style=\"padding-left: 1em; padding-right: 1em; text-align: center; vertical-align: top\">My Bloody Valentine</td>\n",
       "        <td style=\"padding-left: 1em; padding-right: 1em; text-align: center; vertical-align: top\">1</td>\n",
       "        <td style=\"padding-left: 1em; padding-right: 1em; text-align: center; vertical-align: top\">R</td>\n",
       "        <td style=\"padding-left: 1em; padding-right: 1em; text-align: center; vertical-align: top\">11 Feb 1981</td>\n",
       "        <td style=\"padding-left: 1em; padding-right: 1em; text-align: center; vertical-align: top\">Stephen A. Miller (story<br>concept), John Beaird ...</td>\n",
       "        <td style=\"padding-left: 1em; padding-right: 1em; text-align: center; vertical-align: top\">Paul Kelman, Lori<br>Hallier, Neil Affleck, ...</td>\n",
       "    </tr>\n",
       "</table>\n",
       "<table frame=\"box\" rules=\"cols\">\n",
       "    <tr>\n",
       "        <th style=\"padding-left: 1em; padding-right: 1em; text-align: center\">Plot</th>\n",
       "        <th style=\"padding-left: 1em; padding-right: 1em; text-align: center\">Awards</th>\n",
       "        <th style=\"padding-left: 1em; padding-right: 1em; text-align: center\">Director</th>\n",
       "        <th style=\"padding-left: 1em; padding-right: 1em; text-align: center\">Genre</th>\n",
       "        <th style=\"padding-left: 1em; padding-right: 1em; text-align: center\">imdbRating</th>\n",
       "        <th style=\"padding-left: 1em; padding-right: 1em; text-align: center\">Runtime</th>\n",
       "        <th style=\"padding-left: 1em; padding-right: 1em; text-align: center\">Language</th>\n",
       "    </tr>\n",
       "    <tr>\n",
       "        <td style=\"padding-left: 1em; padding-right: 1em; text-align: center; vertical-align: top\">A decades-old folk tale<br>surrounding a deranged ...</td>\n",
       "        <td style=\"padding-left: 1em; padding-right: 1em; text-align: center; vertical-align: top\"></td>\n",
       "        <td style=\"padding-left: 1em; padding-right: 1em; text-align: center; vertical-align: top\">George Mihalka</td>\n",
       "        <td style=\"padding-left: 1em; padding-right: 1em; text-align: center; vertical-align: top\">Horror, Mystery, Thriller</td>\n",
       "        <td style=\"padding-left: 1em; padding-right: 1em; text-align: center; vertical-align: top\">4.0</td>\n",
       "        <td style=\"padding-left: 1em; padding-right: 1em; text-align: center; vertical-align: top\">2.0</td>\n",
       "        <td style=\"padding-left: 1em; padding-right: 1em; text-align: center; vertical-align: top\">English</td>\n",
       "    </tr>\n",
       "</table>\n",
       "<table frame=\"box\" rules=\"cols\">\n",
       "    <tr>\n",
       "        <th style=\"padding-left: 1em; padding-right: 1em; text-align: center\">Country</th>\n",
       "        <th style=\"padding-left: 1em; padding-right: 1em; text-align: center\">imdbVotes</th>\n",
       "        <th style=\"padding-left: 1em; padding-right: 1em; text-align: center\">imdbID</th>\n",
       "        <th style=\"padding-left: 1em; padding-right: 1em; text-align: center\">Type</th>\n",
       "        <th style=\"padding-left: 1em; padding-right: 1em; text-align: center\">totalSeasons</th>\n",
       "        <th style=\"padding-left: 1em; padding-right: 1em; text-align: center\">Response</th>\n",
       "        <th style=\"padding-left: 1em; padding-right: 1em; text-align: center\">Metascore</th>\n",
       "    </tr>\n",
       "    <tr>\n",
       "        <td style=\"padding-left: 1em; padding-right: 1em; text-align: center; vertical-align: top\">Canada</td>\n",
       "        <td style=\"padding-left: 1em; padding-right: 1em; text-align: center; vertical-align: top\">2.0</td>\n",
       "        <td style=\"padding-left: 1em; padding-right: 1em; text-align: center; vertical-align: top\">tt0082782</td>\n",
       "        <td style=\"padding-left: 1em; padding-right: 1em; text-align: center; vertical-align: top\">movie</td>\n",
       "        <td style=\"padding-left: 1em; padding-right: 1em; text-align: center; vertical-align: top\">null</td>\n",
       "        <td style=\"padding-left: 1em; padding-right: 1em; text-align: center; vertical-align: top\">True</td>\n",
       "        <td style=\"padding-left: 1em; padding-right: 1em; text-align: center; vertical-align: top\">None</td>\n",
       "    </tr>\n",
       "</table>\n",
       "[? rows x 22 columns]<br/>Note: Only the head of the SFrame is printed. This SFrame is lazily evaluated.<br/>You can use sf.materialize() to force materialization.\n",
       "</div>"
      ],
      "text/plain": [
       "Columns:\n",
       "\tX1\tint\n",
       "\tid\tint\n",
       "\tTitle\tstr\n",
       "\tYear\tint\n",
       "\tRated\tstr\n",
       "\tReleased\tstr\n",
       "\tWriter\tstr\n",
       "\tActors\tstr\n",
       "\tPlot\tstr\n",
       "\tAwards\tstr\n",
       "\tDirector\tstr\n",
       "\tGenre\tstr\n",
       "\timdbRating\tfloat\n",
       "\tRuntime\tfloat\n",
       "\tLanguage\tstr\n",
       "\tCountry\tstr\n",
       "\timdbVotes\tfloat\n",
       "\timdbID\tstr\n",
       "\tType\tstr\n",
       "\ttotalSeasons\tstr\n",
       "\tResponse\tstr\n",
       "\tMetascore\tint\n",
       "\n",
       "Rows: Unknown\n",
       "\n",
       "Data:\n",
       "+----+----+---------------------+------+-------+-------------+\n",
       "| X1 | id |        Title        | Year | Rated |   Released  |\n",
       "+----+----+---------------------+------+-------+-------------+\n",
       "| 23 | 24 | My Bloody Valentine |  1   |   R   | 11 Feb 1981 |\n",
       "+----+----+---------------------+------+-------+-------------+\n",
       "+-------------------------------+-------------------------------+\n",
       "|             Writer            |             Actors            |\n",
       "+-------------------------------+-------------------------------+\n",
       "| Stephen A. Miller (story c... | Paul Kelman, Lori Hallier,... |\n",
       "+-------------------------------+-------------------------------+\n",
       "+-------------------------------+--------+----------------+\n",
       "|              Plot             | Awards |    Director    |\n",
       "+-------------------------------+--------+----------------+\n",
       "| A decades-old folk tale su... |        | George Mihalka |\n",
       "+-------------------------------+--------+----------------+\n",
       "+---------------------------+------------+---------+----------+---------+-----------+\n",
       "|           Genre           | imdbRating | Runtime | Language | Country | imdbVotes |\n",
       "+---------------------------+------------+---------+----------+---------+-----------+\n",
       "| Horror, Mystery, Thriller |    4.0     |   2.0   | English  |  Canada |    2.0    |\n",
       "+---------------------------+------------+---------+----------+---------+-----------+\n",
       "+-----------+-------+--------------+-----+\n",
       "|   imdbID  |  Type | totalSeasons | ... |\n",
       "+-----------+-------+--------------+-----+\n",
       "| tt0082782 | movie |     null     | ... |\n",
       "+-----------+-------+--------------+-----+\n",
       "[? rows x 22 columns]\n",
       "Note: Only the head of the SFrame is printed. This SFrame is lazily evaluated.\n",
       "You can use sf.materialize() to force materialization."
      ]
     },
     "execution_count": 13,
     "metadata": {},
     "output_type": "execute_result"
    }
   ],
   "source": [
    "movieSFrame[movieSFrame['Title'] == 'My Bloody Valentine']"
   ]
  },
  {
   "cell_type": "code",
   "execution_count": null,
   "metadata": {
    "collapsed": false
   },
   "outputs": [],
   "source": [
    "movieSFrame['id'].astype(str)\n",
    "movie_1 = movieSFrame[movieSFrame['id'].contains('1')]\n",
    "knn_model.query(movie_1)"
   ]
  },
  {
   "cell_type": "code",
   "execution_count": 38,
   "metadata": {
    "collapsed": false
   },
   "outputs": [
    {
     "ename": "KeyError",
     "evalue": "3L",
     "output_type": "error",
     "traceback": [
      "\u001b[1;31m---------------------------------------------------------------------------\u001b[0m",
      "\u001b[1;31mKeyError\u001b[0m                                  Traceback (most recent call last)",
      "\u001b[1;32m<ipython-input-38-70cc25a500ba>\u001b[0m in \u001b[0;36m<module>\u001b[1;34m()\u001b[0m\n\u001b[1;32m----> 1\u001b[1;33m \u001b[0mdf\u001b[0m\u001b[1;33m.\u001b[0m\u001b[0mget_value\u001b[0m\u001b[1;33m(\u001b[0m\u001b[1;36m3\u001b[0m\u001b[1;33m,\u001b[0m\u001b[1;34m'Title'\u001b[0m\u001b[1;33m)\u001b[0m\u001b[1;33m\u001b[0m\u001b[0m\n\u001b[0m",
      "\u001b[1;32mC:\\Anaconda2\\envs\\gl-env\\lib\\site-packages\\pandas\\core\\frame.pyc\u001b[0m in \u001b[0;36mget_value\u001b[1;34m(self, index, col, takeable)\u001b[0m\n\u001b[0;32m   1834\u001b[0m         \u001b[0mseries\u001b[0m \u001b[1;33m=\u001b[0m \u001b[0mself\u001b[0m\u001b[1;33m.\u001b[0m\u001b[0m_get_item_cache\u001b[0m\u001b[1;33m(\u001b[0m\u001b[0mcol\u001b[0m\u001b[1;33m)\u001b[0m\u001b[1;33m\u001b[0m\u001b[0m\n\u001b[0;32m   1835\u001b[0m         \u001b[0mengine\u001b[0m \u001b[1;33m=\u001b[0m \u001b[0mself\u001b[0m\u001b[1;33m.\u001b[0m\u001b[0mindex\u001b[0m\u001b[1;33m.\u001b[0m\u001b[0m_engine\u001b[0m\u001b[1;33m\u001b[0m\u001b[0m\n\u001b[1;32m-> 1836\u001b[1;33m         \u001b[1;32mreturn\u001b[0m \u001b[0mengine\u001b[0m\u001b[1;33m.\u001b[0m\u001b[0mget_value\u001b[0m\u001b[1;33m(\u001b[0m\u001b[0mseries\u001b[0m\u001b[1;33m.\u001b[0m\u001b[0mget_values\u001b[0m\u001b[1;33m(\u001b[0m\u001b[1;33m)\u001b[0m\u001b[1;33m,\u001b[0m \u001b[0mindex\u001b[0m\u001b[1;33m)\u001b[0m\u001b[1;33m\u001b[0m\u001b[0m\n\u001b[0m\u001b[0;32m   1837\u001b[0m \u001b[1;33m\u001b[0m\u001b[0m\n\u001b[0;32m   1838\u001b[0m     \u001b[1;32mdef\u001b[0m \u001b[0mset_value\u001b[0m\u001b[1;33m(\u001b[0m\u001b[0mself\u001b[0m\u001b[1;33m,\u001b[0m \u001b[0mindex\u001b[0m\u001b[1;33m,\u001b[0m \u001b[0mcol\u001b[0m\u001b[1;33m,\u001b[0m \u001b[0mvalue\u001b[0m\u001b[1;33m,\u001b[0m \u001b[0mtakeable\u001b[0m\u001b[1;33m=\u001b[0m\u001b[0mFalse\u001b[0m\u001b[1;33m)\u001b[0m\u001b[1;33m:\u001b[0m\u001b[1;33m\u001b[0m\u001b[0m\n",
      "\u001b[1;32mpandas\\index.pyx\u001b[0m in \u001b[0;36mpandas.index.IndexEngine.get_value (pandas\\index.c:3234)\u001b[1;34m()\u001b[0m\n",
      "\u001b[1;32mpandas\\index.pyx\u001b[0m in \u001b[0;36mpandas.index.IndexEngine.get_value (pandas\\index.c:2931)\u001b[1;34m()\u001b[0m\n",
      "\u001b[1;32mpandas\\index.pyx\u001b[0m in \u001b[0;36mpandas.index.IndexEngine.get_loc (pandas\\index.c:3891)\u001b[1;34m()\u001b[0m\n",
      "\u001b[1;32mpandas\\hashtable.pyx\u001b[0m in \u001b[0;36mpandas.hashtable.Int64HashTable.get_item (pandas\\hashtable.c:6527)\u001b[1;34m()\u001b[0m\n",
      "\u001b[1;32mpandas\\hashtable.pyx\u001b[0m in \u001b[0;36mpandas.hashtable.Int64HashTable.get_item (pandas\\hashtable.c:6465)\u001b[1;34m()\u001b[0m\n",
      "\u001b[1;31mKeyError\u001b[0m: 3L"
     ]
    }
   ],
   "source": [
    "df.get_value(3,'Title')"
   ]
  },
  {
   "cell_type": "code",
   "execution_count": 40,
   "metadata": {
    "collapsed": false
   },
   "outputs": [
    {
     "data": {
      "text/plain": [
       "2    Character\n",
       "Name: Title, dtype: object"
      ]
     },
     "execution_count": 40,
     "metadata": {},
     "output_type": "execute_result"
    }
   ],
   "source": [
    "df.head()\n",
    "df.loc[df['id'] == 3]['Title']"
   ]
  },
  {
   "cell_type": "code",
   "execution_count": null,
   "metadata": {
    "collapsed": true
   },
   "outputs": [],
   "source": []
  }
 ],
 "metadata": {
  "kernelspec": {
   "display_name": "Python 2",
   "language": "python",
   "name": "python2"
  },
  "language_info": {
   "codemirror_mode": {
    "name": "ipython",
    "version": 2
   },
   "file_extension": ".py",
   "mimetype": "text/x-python",
   "name": "python",
   "nbconvert_exporter": "python",
   "pygments_lexer": "ipython2",
   "version": "2.7.11"
  }
 },
 "nbformat": 4,
 "nbformat_minor": 0
}
